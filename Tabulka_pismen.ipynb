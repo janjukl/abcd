{
 "cells": [
  {
   "cell_type": "code",
   "execution_count": 100,
   "id": "fc037491",
   "metadata": {},
   "outputs": [],
   "source": [
    "import os\n",
    "import io\n",
    "import numpy as np\n",
    "from sympy.combinatorics.partitions import Partition\n",
    "from sympy.combinatorics.permutations import Permutation\n",
    "  "
   ]
  },
  {
   "cell_type": "code",
   "execution_count": 39,
   "id": "3ad629a1",
   "metadata": {},
   "outputs": [],
   "source": [
    "f = open(\"input.txt\")\n",
    "input_text = f.read()\n",
    "f.close()"
   ]
  },
  {
   "cell_type": "code",
   "execution_count": 18,
   "id": "59c965c1",
   "metadata": {},
   "outputs": [],
   "source": [
    "input_text = \"ahoj\""
   ]
  },
  {
   "cell_type": "code",
   "execution_count": 14,
   "id": "cf99ebfe",
   "metadata": {},
   "outputs": [
    {
     "data": {
      "text/plain": [
       "'ABCDEFGHIJKLMNOPQRSTUVWXYZ.     abcdefghijklmnopqrstuvwxyz      '"
      ]
     },
     "execution_count": 14,
     "metadata": {},
     "output_type": "execute_result"
    }
   ],
   "source": [
    "abcd = \"ABCDEFGHIJKLMNOPQRSTUVWXYZ.     abcdefghijklmnopqrstuvwxyz      \"\n",
    "abcd"
   ]
  },
  {
   "cell_type": "code",
   "execution_count": 117,
   "id": "594fc06d",
   "metadata": {},
   "outputs": [],
   "source": [
    "#tab_abcd = np.chararray((8,8))\n",
    "def get_ind_dict(abcd_r):\n",
    "    ind_dict = {}\n",
    "    for i in range(8):\n",
    "        for j in range(8):\n",
    "            pis = abcd_r[i*8+j]\n",
    "            #tab_abcd[i,j] = pis\n",
    "\n",
    "            if pis in ind_dict:\n",
    "                ind_dict[pis].append(i*8+j)\n",
    "            else:\n",
    "                ind_dict[pis] = [i*8+j]\n",
    "    return ind_dict\n",
    "\n",
    "                #tab_abcd"
   ]
  },
  {
   "cell_type": "code",
   "execution_count": 27,
   "id": "2bcedb7e",
   "metadata": {},
   "outputs": [
    {
     "data": {
      "text/plain": [
       "{'A': [0],\n",
       " 'B': [1],\n",
       " 'C': [2],\n",
       " 'D': [3],\n",
       " 'E': [4],\n",
       " 'F': [5],\n",
       " 'G': [6],\n",
       " 'H': [7],\n",
       " 'I': [8],\n",
       " 'J': [9],\n",
       " 'K': [10],\n",
       " 'L': [11],\n",
       " 'M': [12],\n",
       " 'N': [13],\n",
       " 'O': [14],\n",
       " 'P': [15],\n",
       " 'Q': [16],\n",
       " 'R': [17],\n",
       " 'S': [18],\n",
       " 'T': [19],\n",
       " 'U': [20],\n",
       " 'V': [21],\n",
       " 'W': [22],\n",
       " 'X': [23],\n",
       " 'Y': [24],\n",
       " 'Z': [25],\n",
       " '.': [26],\n",
       " ' ': [27, 28, 29, 30, 31, 58, 59, 60, 61, 62, 63],\n",
       " 'a': [32],\n",
       " 'b': [33],\n",
       " 'c': [34],\n",
       " 'd': [35],\n",
       " 'e': [36],\n",
       " 'f': [37],\n",
       " 'g': [38],\n",
       " 'h': [39],\n",
       " 'i': [40],\n",
       " 'j': [41],\n",
       " 'k': [42],\n",
       " 'l': [43],\n",
       " 'm': [44],\n",
       " 'n': [45],\n",
       " 'o': [46],\n",
       " 'p': [47],\n",
       " 'q': [48],\n",
       " 'r': [49],\n",
       " 's': [50],\n",
       " 't': [51],\n",
       " 'u': [52],\n",
       " 'v': [53],\n",
       " 'w': [54],\n",
       " 'x': [55],\n",
       " 'y': [56],\n",
       " 'z': [57]}"
      ]
     },
     "execution_count": 27,
     "metadata": {},
     "output_type": "execute_result"
    }
   ],
   "source": [
    "ind_dict"
   ]
  },
  {
   "cell_type": "code",
   "execution_count": 179,
   "id": "02b18bdf",
   "metadata": {},
   "outputs": [
    {
     "data": {
      "text/plain": [
       "array([[ 0.,  1.,  2., ..., 12., 13., 14.],\n",
       "       [ 1.,  0.,  1., ..., 11., 12., 13.],\n",
       "       [ 2.,  1.,  0., ..., 10., 11., 12.],\n",
       "       ...,\n",
       "       [12., 11., 10., ...,  0.,  1.,  2.],\n",
       "       [13., 12., 11., ...,  1.,  0.,  1.],\n",
       "       [14., 13., 12., ...,  2.,  1.,  0.]])"
      ]
     },
     "execution_count": 179,
     "metadata": {},
     "output_type": "execute_result"
    }
   ],
   "source": [
    "dist = np.zeros((64,64))\n",
    "for i in range(8):\n",
    "    for j in range(8):\n",
    "        for k in range(8):\n",
    "            for l in range(8):\n",
    "                dist[i*8+j,k*8+l] = np.abs(i-k)+np.abs(j-l)\n",
    "dist"
   ]
  },
  {
   "cell_type": "code",
   "execution_count": 70,
   "id": "b0d4ceca",
   "metadata": {},
   "outputs": [],
   "source": [
    "def get_minvalue(inputTuples):\n",
    "    inputlist = list(map(lambda x: x[1], inputTuples))\n",
    "    #get the minimum value in the list\n",
    "    min_value = min(inputlist)\n",
    " \n",
    "    #return the index of minimum value \n",
    "    min_index=inputlist.index(min_value)\n",
    "    return min_index"
   ]
  },
  {
   "cell_type": "code",
   "execution_count": 187,
   "id": "7801c76a",
   "metadata": {},
   "outputs": [
    {
     "name": "stderr",
     "output_type": "stream",
     "text": [
      " 12%|█████████▍                                                                   | 2867/23422 [01:40<12:03, 28.41it/s]\n"
     ]
    },
    {
     "ename": "KeyboardInterrupt",
     "evalue": "",
     "output_type": "error",
     "traceback": [
      "\u001b[1;31m---------------------------------------------------------------------------\u001b[0m",
      "\u001b[1;31mKeyboardInterrupt\u001b[0m                         Traceback (most recent call last)",
      "\u001b[1;32m<ipython-input-187-56a342a0fdad>\u001b[0m in \u001b[0;36m<module>\u001b[1;34m\u001b[0m\n\u001b[0;32m     19\u001b[0m     \u001b[1;31m#print(unresolved_paths)\u001b[0m\u001b[1;33m\u001b[0m\u001b[1;33m\u001b[0m\u001b[1;33m\u001b[0m\u001b[0m\n\u001b[0;32m     20\u001b[0m     \u001b[1;32mreturn\u001b[0m \u001b[0munresolved_paths\u001b[0m\u001b[1;33m[\u001b[0m\u001b[1;36m0\u001b[0m\u001b[1;33m]\u001b[0m\u001b[1;33m[\u001b[0m\u001b[1;36m1\u001b[0m\u001b[1;33m]\u001b[0m\u001b[1;33m\u001b[0m\u001b[1;33m\u001b[0m\u001b[0m\n\u001b[1;32m---> 21\u001b[1;33m \u001b[0mfind_shortest_path\u001b[0m\u001b[1;33m(\u001b[0m\u001b[0minput_text\u001b[0m\u001b[1;33m,\u001b[0m \u001b[1;36m0\u001b[0m\u001b[1;33m)\u001b[0m\u001b[1;33m\u001b[0m\u001b[1;33m\u001b[0m\u001b[0m\n\u001b[0m",
      "\u001b[1;32m<ipython-input-187-56a342a0fdad>\u001b[0m in \u001b[0;36mfind_shortest_path\u001b[1;34m(input_str, ind_now)\u001b[0m\n\u001b[0;32m      8\u001b[0m         \u001b[1;32mfor\u001b[0m \u001b[0mpath\u001b[0m \u001b[1;32min\u001b[0m \u001b[0munresolved_paths\u001b[0m\u001b[1;33m:\u001b[0m\u001b[1;33m\u001b[0m\u001b[1;33m\u001b[0m\u001b[0m\n\u001b[0;32m      9\u001b[0m             \u001b[1;32mfor\u001b[0m \u001b[0mpos\u001b[0m \u001b[1;32min\u001b[0m \u001b[0mpossibles\u001b[0m\u001b[1;33m:\u001b[0m\u001b[1;33m\u001b[0m\u001b[1;33m\u001b[0m\u001b[0m\n\u001b[1;32m---> 10\u001b[1;33m                 \u001b[0mpaths\u001b[0m\u001b[1;33m.\u001b[0m\u001b[0mappend\u001b[0m\u001b[1;33m(\u001b[0m\u001b[1;33m(\u001b[0m\u001b[0mpos\u001b[0m\u001b[1;33m,\u001b[0m \u001b[0mpath\u001b[0m\u001b[1;33m[\u001b[0m\u001b[1;36m1\u001b[0m\u001b[1;33m]\u001b[0m \u001b[1;33m+\u001b[0m \u001b[0mdist\u001b[0m\u001b[1;33m[\u001b[0m\u001b[0mpath\u001b[0m\u001b[1;33m[\u001b[0m\u001b[1;36m0\u001b[0m\u001b[1;33m]\u001b[0m\u001b[1;33m,\u001b[0m\u001b[0mpos\u001b[0m\u001b[1;33m]\u001b[0m \u001b[1;33m+\u001b[0m \u001b[1;36m1\u001b[0m\u001b[1;33m)\u001b[0m\u001b[1;33m)\u001b[0m\u001b[1;33m\u001b[0m\u001b[1;33m\u001b[0m\u001b[0m\n\u001b[0m\u001b[0;32m     11\u001b[0m         \u001b[1;31m#print(paths)\u001b[0m\u001b[1;33m\u001b[0m\u001b[1;33m\u001b[0m\u001b[1;33m\u001b[0m\u001b[0m\n\u001b[0;32m     12\u001b[0m \u001b[1;33m\u001b[0m\u001b[0m\n",
      "\u001b[1;31mKeyboardInterrupt\u001b[0m: "
     ]
    }
   ],
   "source": [
    "def find_shortest_path(input_str, ind_now):\n",
    "    unresolved_paths = [(ind_now,0)]\n",
    "    paths = []\n",
    "    for c in tqdm(input_str):\n",
    "        possibles = ind_dict[c]\n",
    "        #print(possibles)    \n",
    "            \n",
    "        for path in unresolved_paths:\n",
    "            for pos in possibles:\n",
    "                paths.append((pos, path[1] + dist[path[0],pos] + 1))\n",
    "        #print(paths)\n",
    "\n",
    "        if len(possibles) == 1 and len(paths) > 1: #continue with best part only\n",
    "            min_ind = get_minvalue(paths)\n",
    "            el = paths[min_ind]\n",
    "            paths = [el]\n",
    "        unresolved_paths = paths\n",
    "        paths = []\n",
    "    #print(unresolved_paths)\n",
    "    return unresolved_paths[0][1]\n",
    "find_shortest_path(input_text, 0)"
   ]
  },
  {
   "cell_type": "code",
   "execution_count": 72,
   "id": "37faa562",
   "metadata": {
    "collapsed": true
   },
   "outputs": [
    {
     "data": {
      "text/plain": [
       "'Lorem ipsum dolor sit amet consectetuer nunc augue at turpis cursus. Vestibulum eleifend dui mauris tincidunt ligula volutpat purus felis adipiscing lacinia. Sagittis orci Lorem lobortis hac tincidunt dis Pellentesque vel et Proin. Magnis tellus sit malesuada id elit hendrerit nec malesuada cursus Nunc. Ipsum justo arcu tincidunt nunc Mauris scelerisque elit Aliquam dictum Vivamus. Semper dui magnis at cursus tellus Vivamus at ligula sem malesuada. Ut interdum nibh Vivamus faucibus elit vitae lorem libero commodo augue. Curabitur mauris eget et orci nec auctor convallis ipsum fringilla condimentum. Vestibulum tellus non lacus et Curabitur aliquet ante convallis facilisi metus. Consectetuer sodales magna ut mollis condimentum sit nunc sed sed laoreet. Commodo malesuada libero Integer laoreet pretium Integer elit sociis Sed felis. Velit ac et leo ac nunc pretium pede pellentesque Vestibulum purus. Vestibulum cursus leo mi Nunc iaculis id Pellentesque Curabitur enim semper. Risus tempor pulvinar laoreet nunc justo tellus Mauris tincidunt pretium magna. Et at ac Phasellus purus urna faucibus metus turpis pede vel. Laoreet faucibus wisi elit Vestibulum justo nibh montes sapien tempus dictum. Sagittis et interdum consectetuer ut ac ipsum libero nulla diam dis. Sed Proin leo tempor consectetuer Nulla Nam justo fames natoque lorem. Vel vestibulum lacinia a et pellentesque Vivamus laoreet et ut vitae. Scelerisque dolor Curabitur id et consequat Cras convallis laoreet Phasellus fames. Vestibulum a scelerisque vel ultrices Nam massa ac Curabitur mauris tempus. Pellentesque id In et tempor Nullam justo Duis et sagittis commodo. Et faucibus a a Lorem amet sem in ac Ut Curabitur. Montes consectetuer accumsan vel justo venenatis nibh dui arcu semper convallis. Dui non tellus ut ligula Vestibulum pede at Nunc urna tellus. Nulla id tincidunt sem eu Nullam nisl Mauris et Vestibulum risus. Cursus ligula consequat enim nec pulvinar a Vestibulum pretium rhoncus nascetur. Arcu sem consequat ut ac dui rutrum Nunc metus lacinia nunc. Quisque condimentum sed est quis nunc Maecenas In nibh metus faucibus. Cursus velit Nam Cum felis at Nam suscipit aliquet wisi non. Et enim pretium tristique vitae ac pellentesque penatibus wisi orci elit. Tincidunt neque parturient felis dolor metus orci sem adipiscing adipiscing semper. Nisl et a turpis non Curabitur hendrerit molestie Vivamus interdum Nulla. Felis dolor adipiscing ut vel feugiat Pellentesque Quisque magnis quam mattis. Orci Nulla risus convallis et platea In enim convallis tortor lobortis. Quisque leo Curabitur faucibus sagittis sem enim semper tempor quis dis. Nam elit eros Sed pede malesuada Nulla sociis congue Mauris vitae. Sem rhoncus justo Cras nulla Aenean ligula augue eros tempus commodo. Pellentesque urna dui elit nec consectetuer ipsum Aliquam quis ut ac. Justo Phasellus sit tellus sociis Nam Maecenas feugiat magna pretium accumsan. Rhoncus vel urna gravida ipsum turpis tristique vel eget semper Morbi. Aenean ac lacinia pretium Integer velit risus non Donec Vivamus interdum. Vitae id Morbi risus pellentesque auctor et Curabitur orci Integer Curabitur. Ornare enim tortor velit odio sagittis pede Curabitur sapien consectetuer vitae. In in egestas Cum iaculis magnis In felis risus neque magna. Nulla nulla Fusce pellentesque nulla ut et Vestibulum nibh turpis magna. Morbi Nulla Vestibulum justo lacus tempus Curabitur malesuada velit condimentum tristique. Commodo pulvinar justo mauris eget et est sapien nec ut condimentum. Et turpis neque pede eget dolor molestie dis Nam ut faucibus. Interdum nibh gravida Duis Vivamus lacus dis Phasellus sit Donec eget. Metus et lacus tellus Curabitur elit leo pharetra nunc nascetur velit. Enim porttitor condimentum enim interdum Curabitur Curabitur et id nunc pede. Interdum fermentum Curabitur parturient congue risus urna ullamcorper quis ipsum ac. Neque congue elit Nullam dui semper rutrum quis Donec malesuada gravida. A lacus accumsan sapien Aliquam eros nibh dui quis sociis laoreet. Tellus Nam leo metus Lorem ipsum semper consequat Vestibulum pretium ante. Nisl Nam eu ipsum natoque orci fames id Vestibulum justo congue. Aliquam sagittis semper quis cursus nibh nibh justo eu diam sem. Aliquam pretium non sit Curabitur lorem Donec montes ut nisl tortor. Dis id consequat nibh nibh Curabitur quis Nulla semper ac vitae. Cursus vel pretium gravida dignissim orci ut tempus dolor ac dolor. Lacinia adipiscing urna tempus consectetuer adipiscing Vivamus adipiscing Aenean ligula Nam. Urna dui Vestibulum at orci Phasellus enim nec sodales ut congue. Ligula adipiscing facilisis Morbi dolor eros ligula sed ac egestas ut. Nisl Duis aliquet sem convallis malesuada dictumst nibh lacus diam nibh. Non est suscipit commodo Phasellus velit Nam a tempus interdum metus. Justo Aenean vel et wisi Proin leo urna nibh euismod Quisque. Tellus wisi auctor augue quam ut sagittis id feugiat convallis Phasellus. Nulla Nam et Morbi aliquam id pede id quis tincidunt Duis. Netus nulla turpis pellentesque mauris Phasellus Nunc Nulla libero molestie felis. Dolor nunc dictum sem consequat rutrum feugiat felis wisi quis sagittis. A dictum Sed volutpat id Curabitur dolor Phasellus tempor orci dictum. Consequat Praesent enim laoreet Mauris id Pellentesque nec magnis urna ridiculus. Amet hendrerit orci Sed ipsum ante vitae cursus eros pretium habitant. Mauris id congue Aenean urna et purus eu gravida elit scelerisque. Et accumsan Pellentesque sem gravida congue adipiscing augue pulvinar Quisque nulla. Sem consequat leo id leo vel augue at semper auctor natoque. Curabitur eu risus Aenean vitae In elit egestas tristique Integer lacus. Nisl lorem ac Aenean Lorem Nulla lorem magna a dui et. Vitae vel lacinia dui Sed elit nibh eu wisi orci euismod. Pellentesque rutrum convallis eros libero Vivamus sed malesuada natoque dolor dapibus. Arcu consequat fermentum quam vel convallis laoreet consectetuer nonummy vestibulum Aliquam. Enim mollis pretium id porta orci fringilla ligula eros ipsum congue. Nibh augue tincidunt est ante Vestibulum elit Nam urna enim vel. Vestibulum metus sagittis urna mauris condimentum consequat id pellentesque quam Sed. Et tortor enim tincidunt lacus at nibh lacus sapien sapien hendrerit. Tristique et semper enim elit ligula In Curabitur ac justo parturient. Vitae ut at parturient Phasellus velit Sed pellentesque nibh convallis enim. Cursus Curabitur ac sit quis vel tincidunt libero In ligula gravida. Ac Nam ipsum iaculis consequat sit egestas In eu auctor tempor. Vestibulum nibh at condimentum quis risus est Quisque facilisis ut Suspendisse. Auctor enim orci Phasellus suscipit interdum Aenean at tempus id at. A Sed penatibus risus habitant urna purus Vivamus Quisque mauris dictumst. Ut cursus hac Maecenas molestie auctor nunc semper vitae dictum mauris. Dolor magna ut risus nibh non Sed eget elit pellentesque ut. Ligula vitae odio id semper lacus convallis Nullam pede ut non. Tempor Nam Praesent est enim auctor Vestibulum Integer mauris consequat elit. Pretium neque volutpat In lacus et velit congue eros Nunc dis. Id a interdum Curabitur mollis pellentesque nibh risus ac quis tincidunt. Non tincidunt facilisi mi tellus condimentum lacinia ut tellus pretium habitant. Ac ut purus consequat urna pretium lorem Vestibulum Vestibulum urna ante. Vel tincidunt Curabitur vel et non faucibus vitae tristique Vestibulum congue. Tempus convallis ipsum In Nulla nulla Morbi nunc adipiscing justo condimentum. Sed ac wisi Nunc Vivamus ac Vestibulum Curabitur id Vestibulum Nulla. Donec Nam et hendrerit Aliquam pretium eget quis laoreet dui consequat. Commodo Nam hac tellus adipiscing Duis sagittis adipiscing sit at venenatis. Ridiculus enim consectetuer Vestibulum non ipsum gravida consectetuer orci Nulla velit. Malesuada nunc gravida mauris quis tincidunt sapien id wisi pellentesque lacus. Condimentum habitant Nam et adipiscing pellentesque faucibus congue vel Vestibulum In. Lorem mauris accumsan pede ullamcorper tellus laoreet montes orci ac sapien. Tempor aliquet eros malesuada hac sed lorem Cum ornare elit at. Non consequat nibh malesuada facilisi mi convallis ipsum Aenean pretium enim. Nullam Aenean enim hendrerit congue nunc molestie Curabitur morbi natoque volutpat. Accumsan Aliquam a Sed et commodo Integer purus augue et nec. Interdum et netus laoreet cursus nulla vel dignissim dolor rutrum et. Auctor dolor dui quis neque Nunc congue tincidunt parturient est laoreet. Ligula Curabitur sem dui condimentum sagittis tincidunt non risus Ut et. Vivamus ridiculus nibh Pellentesque libero consectetuer Lorem id aliquet at dui. Tincidunt vitae dolor in pede lorem vitae interdum elit In nibh. Mauris consectetuer velit tortor vitae quis nisl a et auctor ut. A ipsum nibh sapien sagittis Curabitur tincidunt Quisque eget egestas nunc. Commodo nec netus et dui dolor suscipit tempus lacus libero morbi. Ligula morbi tristique tristique consequat wisi faucibus ut pretium velit at. Sed orci consequat nec Sed Vestibulum non adipiscing nec rhoncus wisi. Volutpat magna tortor sodales est interdum Phasellus metus et tempor elit. Justo porttitor dictumst vel nibh ac Curabitur massa vitae adipiscing Sed. At sagittis pretium sed elit tempor semper neque Integer sociis accumsan. Justo accumsan penatibus aliquet et dui malesuada Curabitur Phasellus ridiculus nec. Odio urna mauris Suspendisse Curabitur cursus scelerisque hendrerit lacus et a. Vel Sed consequat venenatis Nulla at ipsum et Integer justo leo. Vestibulum dapibus urna interdum nunc Vivamus adipiscing felis at Sed senectus. Vivamus urna euismod pretium et velit pellentesque Vivamus quis arcu volutpat. Laoreet In Duis In dui fringilla dui hendrerit urna accumsan nulla. Magnis habitant Sed est nibh Phasellus massa eros tellus justo amet. Elit dictum consequat risus et lacus ut nunc Phasellus ante Morbi. Et Morbi semper et tortor vitae et Sed In fermentum risus. Congue porta condimentum pretium sollicitudin vitae ut Quisque Curabitur nibh sit. Euismod at congue nisl cursus Curabitur nec justo nunc nibh semper. Sit Praesent purus iaculis quis tellus odio velit Pellentesque Sed quis. Augue Aenean Integer sit sed pede tempus risus Curabitur eget egestas. Aenean convallis magna quis hac tellus vitae fringilla Nunc ac scelerisque. Vivamus consequat diam Pellentesque tristique laoreet Pellentesque Aenean mattis nisl auctor. Convallis Phasellus tincidunt consequat enim vitae tellus auctor Suspendisse Vivamus rutrum. Condimentum diam orci interdum egestas Quisque eget wisi tempor condimentum tempus. Ipsum eget amet sociis parturient velit parturient Phasellus Suspendisse quis non. Condimentum ut adipiscing sed Nunc mauris Quisque ante Praesent Praesent justo. Sagittis Vestibulum sagittis Curabitur purus elit dolor quis nibh Curabitur pede. Id velit congue commodo a Donec vitae sodales et metus Vivamus. Magna tortor pellentesque id leo est elit Quisque Nulla Nam ullamcorper. Egestas at Nulla nulla id justo libero laoreet penatibus hac urna. Curabitur wisi Curabitur Duis massa Vestibulum platea sed wisi sed sed. Vel neque interdum laoreet id adipiscing euismod urna faucibus pellentesque Aenean. Tellus dictum quis ut Fusce sit vitae a justo eros Aliquam. Eget condimentum sapien vel vel ut sed dis justo id wisi. Libero nonummy et platea leo sem non Phasellus mattis odio tellus. Feugiat tempus Nullam Aenean pretium vel mattis id ullamcorper volutpat at. Maecenas auctor justo vitae Sed suscipit euismod sodales fames ridiculus Vestibulum. Mollis lobortis congue est pretium mattis id id nulla molestie Nam. Fringilla vitae non elit sit convallis In Nulla montes consequat semper. Pede pellentesque Curabitur pede ut non mauris Integer tellus natoque amet. Egestas et Donec mattis hendrerit eu mi porta ac lacus mauris. Justo mattis ipsum eros libero Nam ac eget nunc dolor tincidunt. Cras felis eget risus consectetuer vitae Nulla sem dignissim nonummy Proin. Convallis laoreet urna turpis elit condimentum dignissim et vel cursus wisi. Feugiat sit in tempus felis mauris sociis gravida eget pharetra tellus. Wisi sem Maecenas egestas platea Maecenas nibh sodales felis augue parturient. Sed tempus magnis ac nec Morbi ipsum facilisis Aenean eu ac. Enim sem congue libero ac Donec elit justo ante Phasellus Sed. Amet pede malesuada Sed laoreet malesuada Phasellus id vitae id in. Turpis consectetuer Nullam mattis id mi Nam et et consequat pellentesque. Aliquam Vestibulum neque elit sit enim tincidunt platea magna quis augue. Nam tortor est dis sit vel fermentum Lorem leo Curabitur mollis. Turpis sed Vestibulum pellentesque consectetuer Sed elit convallis sapien tortor ac. Nisl Curabitur tempor convallis orci Phasellus gravida consectetuer vitae pretium vitae. Amet ipsum eu est ut vitae leo leo Vestibulum neque diam. Quis faucibus nunc tellus eleifend cursus vitae Sed eget Nulla laoreet. Vitae nonummy Curabitur enim ligula Nam massa semper magna orci Lorem. Tempor montes magna Curabitur Curabitur convallis cursus amet auctor cursus quis. Et odio id molestie tincidunt semper ut cursus fermentum accumsan In. Phasellus pede Integer et metus sit id ipsum elit nec tempus. Ac nibh netus dapibus Sed habitant Sed pellentesque dignissim mus eu. Odio sem nunc Maecenas elit dolor quis Praesent Nam fringilla mauris. Malesuada fringilla ante adipiscing ipsum enim semper convallis velit Quisque amet. Convallis felis in pretium pellentesque nibh et velit vel vitae cursus. Tellus habitant sodales nibh metus libero et tincidunt non fringilla wisi. Quisque gravida elit nunc lacus augue Aenean montes risus ut est. Scelerisque consequat urna sodales a auctor amet tellus hendrerit orci netus. Augue et nibh nibh justo pellentesque mauris ut Nulla sagittis dictum. Nec orci congue molestie turpis metus eget lorem ut Phasellus sapien. Amet dui turpis dictumst adipiscing Sed semper cursus ut laoreet mauris. Curabitur Pellentesque eu eget semper convallis vitae dui porttitor congue elit. Vestibulum eget rutrum nonummy leo sem semper convallis id Curabitur porttitor. Sagittis Vestibulum auctor nunc auctor arcu volutpat risus magna mollis tristique. Urna lacus Aliquam hendrerit leo ridiculus quis est augue nibh Nam. Quisque interdum ipsum Maecenas cursus leo congue Pellentesque tempus lacus iaculis. Hendrerit Quisque libero felis aliquet at mauris ac Sed Pellentesque aliquam. Nulla et pharetra sed ipsum orci metus nunc dictumst elit quam. Laoreet leo Curabitur nunc tincidunt Maecenas lacus lobortis et et ut. Malesuada eu feugiat quis Curabitur facilisis sapien congue risus et id. Orci nibh nunc ut ipsum In congue dignissim feugiat enim In. Id condimentum consequat sem enim lacus in laoreet nunc nibh at. Curabitur dolor quis nibh elit Duis nibh vitae metus vitae ornare. Penatibus quis tempor Cum Morbi scelerisque dui pellentesque vitae amet velit. Nulla scelerisque pretium nulla dapibus elit lorem eget nibh massa gravida. Sed id justo ac at Ut ac ante vel feugiat consequat. Phasellus pede ultrices condimentum augue enim turpis Morbi id et ligula. Auctor elit convallis est a Phasellus hendrerit augue sapien laoreet condimentum. Cursus elit vel et sem nibh pretium tincidunt nisl lacinia et. Nullam ac natoque vitae congue Phasellus porttitor faucibus dui faucibus cursus. Tortor mauris pretium mauris quis ipsum quis eget In ac ac. Fermentum facilisi id eu est Praesent ipsum elit dignissim Curabitur amet. Nam tincidunt nascetur lacus vitae felis vitae nibh orci velit rutrum. Vivamus turpis Lorem metus eget consectetuer ipsum ipsum urna sit tincidunt. Nec et libero ullamcorper consequat a Nullam tincidunt Nulla et Quisque. Nulla convallis Nunc ante parturient sagittis ultrices Nulla Vivamus et Nam. Semper dui elit id sagittis ante eget nonummy ac molestie vel. Nulla odio gravida adipiscing sem Integer Ut vel a fermentum Ut. Semper urna sit tristique quis Mauris ac neque sit cursus ut. Quisque wisi Aenean vel ac tortor vitae mollis Donec malesuada nec. Libero Nam tellus nibh urna dui magnis netus pulvinar ut pretium. Cursus ut id orci sapien condimentum Donec ac mus interdum sit. Pellentesque aliquet est Phasellus id ipsum porttitor fames laoreet Lorem consectetuer. Donec risus et elit convallis Vestibulum nunc Praesent elit Curabitur nulla. Pretium quam lacinia auctor in sollicitudin et ac tristique rutrum Curabitur. Nibh Vestibulum justo tortor interdum Morbi justo quis quis malesuada Nunc. Et vel Vestibulum dolor nisl accumsan dui Vestibulum ut nibh vitae. Aliquam nibh rutrum ridiculus libero consequat risus justo Curabitur pretium nibh. Non lorem tincidunt Cras at Donec ipsum ac condimentum magna nec. Tellus Pellentesque est pellentesque orci ultrices enim a faucibus elit Maecenas. Sem ut Quisque Pellentesque tempus pharetra ut Cras pretium lorem nibh. Fusce Sed Vivamus eget tincidunt id suscipit et augue Aenean fames. Tortor ac ornare wisi Nam Curabitur egestas gravida consequat Pellentesque auctor. Cursus laoreet eget id Nam Nulla urna dui elit augue massa. Convallis eu vel interdum Quisque ligula Maecenas risus Nam eget ut. Mollis sit tellus aliquet pretium Quisque quis vel congue Maecenas auctor. Tristique sociis Vestibulum vel libero faucibus nec ipsum Vestibulum aliquam sem. Urna lacinia odio Nam ante natoque id ipsum consequat lorem Pellentesque. Nulla condimentum justo velit tempus Maecenas In consectetuer ipsum ligula pulvinar. Enim faucibus Vestibulum Cras pellentesque consequat ut elit lacinia dapibus et. Cursus massa magna pretium sollicitudin dui odio dictumst penatibus congue Sed. Adipiscing dui mi Proin ultrices In sed semper laoreet laoreet quis. Iaculis morbi nec a est eu Praesent nulla Vestibulum sociis et. Sed velit dui nunc Sed pretium vitae Ut tincidunt feugiat sapien. Elit semper vel vitae mauris magna tincidunt at auctor massa iaculis. Nam urna quam lacinia egestas nibh justo Donec wisi et vitae. Est adipiscing nunc ipsum porttitor wisi nec aliquam Nulla sed elit. Ullamcorper consequat vel enim In quis laoreet sit semper porttitor augue. Elit elit augue Curabitur vitae ac Nam Nullam fringilla risus Pellentesque. Tempus morbi aliquam nibh urna ut justo Nam quis et Donec. Velit at lacinia purus Ut mattis orci cursus at Vestibulum urna. Interdum elit pede cursus at elit amet enim nec sollicitudin quis. Lorem felis lobortis orci dictumst nunc sit nibh platea Nunc sapien. Orci tempus ut ornare Proin tincidunt arcu nunc neque Proin ridiculus. Sed nunc vitae malesuada Phasellus interdum urna platea vel turpis mi. Est at Nam id urna Integer sapien at at Curabitur cursus. Sed urna ac nunc sed quis sed urna id id est. Dignissim eget eget sapien dictum ac adipiscing suscipit Morbi augue Sed. Elit consequat ut venenatis condimentum mauris mi pharetra facilisi pede convallis. Penatibus consectetuer Sed leo lacinia Integer morbi molestie semper magnis Nam. Ornare nibh id et at tellus consectetuer vitae nibh cursus at. Laoreet nibh Phasellus Sed enim condimentum dictumst et iaculis eros Maecenas. Quis Quisque pretium neque fringilla tincidunt sem turpis vitae lobortis pharetra. In Cum Cum tristique dolor tellus risus nibh ipsum lorem Nulla. Velit elit metus quis dui vitae accumsan leo lobortis tincidunt ac. Risus id ut pellentesque nascetur Nam lacus volutpat feugiat iaculis lorem. Dictumst semper a ante leo Curabitur eget tellus gravida pellentesque Suspendisse. In mus porttitor consectetuer tortor eleifend velit et enim in Proin. Et felis sit quis id tempor ipsum non id penatibus nibh. Consequat Ut interdum et a tristique amet Curabitur Phasellus ut wisi. Condimentum egestas convallis Ut Nam Duis a id laoreet pellentesque ut. Ligula eu pede wisi et Fusce neque massa Nam tempus Nam. Laoreet ante nibh egestas dapibus nisl odio et venenatis augue non. Tincidunt a nunc pellentesque leo facilisis scelerisque pretium cursus Praesent Maecenas. Eget Phasellus interdum et sit orci pulvinar cursus condimentum dui sociis. Natoque Sed porttitor mi consectetuer id nibh ipsum Aenean ac Vestibulum. Semper adipiscing penatibus pellentesque nibh adipiscing consequat Curabitur eget quam Integer. Tempus In sagittis eu Quisque Nam lorem adipiscing Lorem nunc dictum. Malesuada pretium gravida netus Nulla ipsum Vestibulum lacinia nonummy turpis sagittis. Metus Praesent urna augue consectetuer vel et Pellentesque Nulla morbi pretium. Consequat velit elit justo sagittis lorem orci feugiat quis velit morbi. Dolor porta ligula non lobortis Quisque interdum odio Vivamus nulla pellentesque. Semper Nam augue arcu neque venenatis condimentum velit et Vestibulum porta. Ac felis massa feugiat Vestibulum nibh adipiscing Ut convallis interdum lacinia. Eros wisi Lorem libero Ut Aenean odio platea adipiscing urna accumsan. Faucibus feugiat nibh tellus elit Vestibulum laoreet et In consequat id. Dolor magna consequat pretium felis Cum ultrices metus a nunc ante. Interdum ac Quisque tellus convallis non pretium Vestibulum aliquam et vitae. Et ut Aenean augue molestie at elit diam odio sed Nam. Fringilla odio tincidunt odio non id Quisque Cum et justo Nulla. Mi Duis gravida Nam elit In quis Integer ut elit tellus. Aenean nunc urna Quisque vitae tincidunt nec nibh Integer eget sem. Ligula orci Morbi pellentesque Nulla purus consequat Vestibulum consectetuer pede quis. Nullam fermentum commodo sapien volutpat Sed tempus id platea Lorem semper. Sociis et semper leo tortor pede Aenean convallis vitae metus sapien. Lobortis Curabitur mauris Nullam elit felis euismod Donec In Phasellus habitant. Ornare mollis Phasellus tincidunt tortor Pellentesque In Morbi habitant ut molestie. In a nulla dolor euismod id condimentum interdum dapibus egestas quis. Consequat dui pretium nec id vitae ullamcorper dignissim Nunc nibh turpis. Senectus a Curabitur amet ipsum tempus Curabitur vel velit Nam tincidunt. Ut tellus dui accumsan tellus vitae volutpat In dolor pretium leo. Urna ut Phasellus orci Aenean lacus orci lobortis enim adipiscing lobortis. Magna amet volutpat ipsum vitae orci eget vel porttitor eros laoreet. Ut fringilla id tristique tincidunt libero Sed risus porttitor mi Nam. Pretium consequat et neque senectus ac Curabitur eget Mauris ante Quisque. Cras semper tristique et tincidunt eros nibh elit Nam In justo. Enim dis habitant nunc quis Sed ac Fusce Lorem Aenean ipsum. Turpis Vestibulum Curabitur tincidunt dignissim tincidunt et pulvinar pretium et id. Sapien sagittis Sed semper Vestibulum tellus enim lacinia pulvinar eu vitae. Congue auctor accumsan vitae fringilla sem malesuada a amet Curabitur at. Tortor nunc velit dapibus velit Curabitur nunc lorem urna dui tempus. Mus congue auctor est dui tortor neque Maecenas eget montes urna. Sed pellentesque dui nec Nam eget auctor Sed id laoreet quis. Adipiscing dui tincidunt Phasellus condimentum auctor et pretium enim est Curabitur. Ligula sem tincidunt adipiscing consectetuer ac pede Aenean vitae vel semper. Fringilla eu non tortor nunc Nam augue ipsum mattis tortor parturient. Justo sed Quisque Aenean libero Sed sed vel condimentum porttitor pede. Risus malesuada Donec metus Pellentesque eget Fusce malesuada lacinia turpis amet. Libero Aenean Curabitur ut Phasellus montes suscipit malesuada dictumst condimentum arcu. Nulla pretium lorem ante ut pellentesque Sed facilisi Phasellus id malesuada. Nulla id elit Nam Aliquam sapien Vivamus magnis nec condimentum laoreet. Felis Pellentesque Maecenas justo convallis Suspendisse mauris tellus orci Nam Ut. Fames sem.'"
      ]
     },
     "execution_count": 72,
     "metadata": {},
     "output_type": "execute_result"
    }
   ],
   "source": [
    "input_text"
   ]
  },
  {
   "cell_type": "code",
   "execution_count": 167,
   "id": "57b4d370",
   "metadata": {},
   "outputs": [
    {
     "name": "stderr",
     "output_type": "stream",
     "text": [
      "100%|████████████████████████████████████████████████████████████████████████| 23422/23422 [00:00<00:00, 337021.22it/s]"
     ]
    },
    {
     "name": "stdout",
     "output_type": "stream",
     "text": [
      "140650.0\n"
     ]
    },
    {
     "name": "stderr",
     "output_type": "stream",
     "text": [
      "\n"
     ]
    }
   ],
   "source": [
    "from tqdm import tqdm\n",
    "total = 1 #jedna za první enter na napsání prvního písmene\n",
    "last_ind = ind_dict[c_now][0]\n",
    "for i in tqdm(range(len(input_text))):\n",
    "    c_now = input_text[i]\n",
    "    if i < len(input_text)-1:\n",
    "        c_next = input_text[i+1]\n",
    "    \n",
    "    \n",
    "        ind_now = ind_dict[c_now][0]\n",
    "        ind_next_list = ind_dict[c_next]\n",
    "        if len(ind_next_list) > 1:\n",
    "            pass#print(\"C: \")\n",
    "        ind_next = ind_next_list[0]\n",
    "        #print(ind_next, total)\n",
    "        total += dist[ind_now,ind_next] + 1\n",
    "print(total)"
   ]
  },
  {
   "cell_type": "code",
   "execution_count": 114,
   "id": "6accfefd",
   "metadata": {},
   "outputs": [],
   "source": [
    "rng = np.random.default_rng()\n",
    "def get_random_abcd(abcd):\n",
    "    rand_abcd = \"\"\n",
    "    perm = rng.permutation(64)\n",
    "    for i in perm:\n",
    "        rand_abcd += abcd[i]\n",
    "    return rand_abcd"
   ]
  },
  {
   "cell_type": "code",
   "execution_count": 203,
   "id": "e7a01a43",
   "metadata": {},
   "outputs": [
    {
     "name": "stdout",
     "output_type": "stream",
     "text": [
      "120330.0    x zmqBcdGuZ OXQlIpD NKHW RfE ksigvt.h L nCaoAV bySeFPwT rJYMj U\n",
      "129174.0   m LrtyB  jqbTQMlvW  fEXhw dkRuC OeG .YsnUDxoiNKAPZS gpV JHcz aIF\n",
      "108516.0   TUhrQenmKjHZ x BwfJ LbkuACciPtglXqVs ao   GR dSYvMFyINpz DOE W .\n",
      "125566.0   .A wxgTo pO YH rPDvS NEqWU s RbjfC  zeJlGXicMLKVhnyFk tIdBauZmQ \n",
      "118895.0   hxHjP LVkDRS I fp  YorWiGgqnmal ezXuJKCdU wc NE t.AFOMZB ysbTQ v\n",
      "133459.0   eFkGCntqEi QhucLAMKVYSsw  zPWB   l  romZyNgHORdD Xx. jIJTvUb pfa\n",
      "138221.0   I.XKWY htsPSVGr  m UNgEDuCpRBZnvwxMdfc k AbzOQ yeLlq  iJH FTaj o\n",
      "123944.0   G un zh W qwD.  MceIjoUxRLdAEZFVvkQfKiCT  mHOsa Xrgt YplJNP SBby\n",
      "140100.0   .d  OGIikKFJgVhLpx nT feCRAuB qowtE zy NDjZSsWYamQ l bvcUP MH rX\n",
      "127283.0     e oFM ZgEqAOCtrS Pj. cmdsnbI VGakRlx JipLWBYQzD  NhfTUX uHwKvy\n"
     ]
    }
   ],
   "source": [
    "for i in range(10):\n",
    "    rand_abcd = get_random_abcd(abcd)\n",
    "    ind_dict = get_ind_dict(rand_abcd)\n",
    "    res = find_shortest_path_quickly(input_text, ind_dict)\n",
    "    print(res, \" \",rand_abcd)"
   ]
  },
  {
   "cell_type": "code",
   "execution_count": 213,
   "id": "03f63b19",
   "metadata": {},
   "outputs": [],
   "source": [
    "top_abcd = 'eiuUPR nlWwb.hEr TpitcVIJAds nvSyjmueagL FCrloMH mQqNfeta oODeiu'"
   ]
  },
  {
   "cell_type": "code",
   "execution_count": 206,
   "id": "682b4800",
   "metadata": {},
   "outputs": [
    {
     "data": {
      "text/plain": [
       "'  e oFM ZgEqAOCtrS Pj. cmdsnbI VGakRlx JipLWBYQzD  NhfTUX uHwKvy'"
      ]
     },
     "execution_count": 206,
     "metadata": {},
     "output_type": "execute_result"
    }
   ],
   "source": [
    "rand_abcd"
   ]
  },
  {
   "cell_type": "code",
   "execution_count": 216,
   "id": "27b440ba",
   "metadata": {},
   "outputs": [
    {
     "name": "stdout",
     "output_type": "stream",
     "text": [
      "(15, 23)   69875.0   elehPSmTnodb.u EerpitciLt as nvIuNmueagVUC lrof ywjqAiMRHWJQFDO \n"
     ]
    }
   ],
   "source": [
    "#top_abcd = abcd\n",
    "#min_path = 1000000\n",
    "for i in range(64):\n",
    "    for j in range(64):\n",
    "        per_abcd = list(top_abcd)\n",
    "        per = per_abcd[i]\n",
    "        per_abcd[i] = per_abcd[j]\n",
    "        per_abcd[j] = per\n",
    "        per_abcd = ''.join(per_abcd)\n",
    "        \n",
    "        ind_dict = get_ind_dict(per_abcd)\n",
    "        new_min = find_shortest_path_quickly(input_text,ind_dict)\n",
    "        #print(new_min)\n",
    "        if  new_min < min_path:\n",
    "            min_path = new_min\n",
    "            top_abcd = per_abcd\n",
    "            print((i,j), \" \", new_min, \" \", per_abcd)\n",
    "        "
   ]
  },
  {
   "cell_type": "code",
   "execution_count": 201,
   "id": "63c1c94c",
   "metadata": {},
   "outputs": [],
   "source": [
    "def find_shortest_path_quickly(input_text,ind_dict):\n",
    "    prices_at_n = np.zeros((64))\n",
    "    #prices_at_n[ind_dict[input_text[0]]] = 1 + dist()\n",
    "    non_empty = [0]\n",
    "    for c in input_text:\n",
    "            for pos in ind_dict[c]:\n",
    "                min_price = 1000*1000*1000\n",
    "                for ne in non_empty:\n",
    "                    price = prices_at_n[ne] + dist[pos,ne] + 1\n",
    "                    #print(price)\n",
    "                    if price < min_price:\n",
    "                        min_price = price\n",
    "                prices_at_n[pos] = min_price\n",
    "            non_empty = ind_dict[c]\n",
    "    #assume there is only one .\n",
    "    return prices_at_n[non_empty[0]]\n",
    "#     for ne in non_empty:         \n",
    "#         print(\"final: \",prices_at_n[ne])"
   ]
  },
  {
   "cell_type": "code",
   "execution_count": 173,
   "id": "27819ad2",
   "metadata": {},
   "outputs": [
    {
     "data": {
      "text/plain": [
       "{'e': [0, 1, 36],\n",
       " 'i': [2, 19],\n",
       " 'U': [3],\n",
       " 'P': [4],\n",
       " 'R': [5],\n",
       " 'u': [6, 35],\n",
       " 't': [7, 20],\n",
       " 's': [8, 27],\n",
       " 'W': [9],\n",
       " 'w': [10],\n",
       " 'b': [11],\n",
       " '.': [12],\n",
       " 'h': [13],\n",
       " 'E': [14],\n",
       " 'a': [15, 37],\n",
       " 'n': [16, 29],\n",
       " 'T': [17],\n",
       " 'p': [18],\n",
       " 'c': [21],\n",
       " 'V': [22],\n",
       " 'I': [23],\n",
       " 'J': [24],\n",
       " 'A': [25],\n",
       " 'd': [26],\n",
       " ' ': [28, 40, 48, 49, 54, 55, 56, 57, 58, 61],\n",
       " 'v': [30],\n",
       " 'S': [31],\n",
       " 'y': [32],\n",
       " 'j': [33],\n",
       " 'm': [34],\n",
       " 'g': [38],\n",
       " 'L': [39],\n",
       " 'F': [41],\n",
       " 'C': [42],\n",
       " 'r': [43, 62],\n",
       " 'l': [44, 63],\n",
       " 'o': [45],\n",
       " 'M': [46],\n",
       " 'H': [47],\n",
       " 'Q': [50],\n",
       " 'q': [51],\n",
       " 'N': [52],\n",
       " 'f': [53],\n",
       " 'O': [59],\n",
       " 'D': [60]}"
      ]
     },
     "execution_count": 173,
     "metadata": {},
     "output_type": "execute_result"
    }
   ],
   "source": [
    "ind_dict"
   ]
  }
 ],
 "metadata": {
  "kernelspec": {
   "display_name": "Python 3",
   "language": "python",
   "name": "python3"
  },
  "language_info": {
   "codemirror_mode": {
    "name": "ipython",
    "version": 3
   },
   "file_extension": ".py",
   "mimetype": "text/x-python",
   "name": "python",
   "nbconvert_exporter": "python",
   "pygments_lexer": "ipython3",
   "version": "3.8.8"
  }
 },
 "nbformat": 4,
 "nbformat_minor": 5
}
